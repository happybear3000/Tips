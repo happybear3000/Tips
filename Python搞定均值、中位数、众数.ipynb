{
 "cells": [
  {
   "cell_type": "markdown",
   "metadata": {},
   "source": [
    "# 数学与统计\n",
    "## Python搞定均值、中位数、众数\n",
    "<br>\n",
    "这个项目中，我们将定义三个函数，分别计算9名学生成绩的均值、中位数、众数。<br>\n",
    "我们一起来完成以"
   ]
  },
  {
   "cell_type": "markdown",
   "metadata": {},
   "source": [
    "### 9名学生的成绩列表\n",
    "以下列表是9名学生的成绩列表，你可以使用这组数据检验你的函数定义正确与否。<br>在如下有# TODO 提示的地方，将代码补全，实现注释中所要求的功能。\n",
    "<br>\n",
    "\n",
    "> **提示**：你可以通过单击代码区域，然后使用键盘快捷键 **Shift+Enter** 或 **Shift+Return** 来运行代码。或者在选择代码后使用**执行**（run cell）按钮执行代码。"
   ]
  },
  {
   "cell_type": "code",
   "execution_count": null,
   "metadata": {
    "collapsed": true
   },
   "outputs": [],
   "source": [
    "grade_list=[100,98,87,65,82,99,92,99,100]"
   ]
  },
  {
   "cell_type": "markdown",
   "metadata": {},
   "source": [
    "### 定义计算均值的函数\n",
    "定义如下grade_mean函数，完成该功能。<br>\n",
    "这组数据的均值为：91.3333"
   ]
  },
  {
   "cell_type": "code",
   "execution_count": 25,
   "metadata": {},
   "outputs": [
    {
     "data": {
      "text/plain": [
       "91.33333333333333"
      ]
     },
     "execution_count": 25,
     "metadata": {},
     "output_type": "execute_result"
    }
   ],
   "source": [
    "#import numpy as np\n",
    "\n",
    "def grade_mean(list):\n",
    "    '''\n",
    "    计算均值\n",
    "    \n",
    "    参数：\n",
    "        list：列表类型，待分析数据\n",
    "        \n",
    "    返回值：\n",
    "        grade_mean: 数值型，待分析数据的均值\n",
    "        \n",
    "    '''\n",
    "    # TODO\n",
    "    # 定义计算均值的函数\n",
    "    '''\n",
    "    grade_sum = 0\n",
    "    for i in list:\n",
    "        grade_sum += i\n",
    "    \n",
    "    grade_mean = grade_sum / len(list)\n",
    "    '''  \n",
    "    grade_mean = np.mean(list)\n",
    "    \n",
    "    return grade_mean\n",
    "\n",
    "# 调用grade_mean函数，计算均值\n",
    "grade_mean(grade_list)"
   ]
  },
  {
   "cell_type": "markdown",
   "metadata": {},
   "source": [
    "### 定义计算中位数的函数\n",
    "定义如下grade_median函数，完成该功能。<br>\n",
    "这组数据的中位数为：98"
   ]
  },
  {
   "cell_type": "code",
   "execution_count": 23,
   "metadata": {},
   "outputs": [
    {
     "data": {
      "text/plain": [
       "98.0"
      ]
     },
     "execution_count": 23,
     "metadata": {},
     "output_type": "execute_result"
    }
   ],
   "source": [
    "\n",
    "\n",
    "def grade_median(list):\n",
    "    '''\n",
    "    计算中位数\n",
    "    \n",
    "    参数：\n",
    "        list：列表类型，待分析数据\n",
    "        \n",
    "    返回值：\n",
    "        grade_median_value: 数值型，待分析数据的中位数\n",
    "        \n",
    "    '''\n",
    "    # TODO\n",
    "    # 定义计算中位数的函数\n",
    "    '''\n",
    "    list.sort()\n",
    "    half = len(list) // 2\n",
    "    grade_median_value = (list[half] + list[~half]) / 2\n",
    "    '''\n",
    "    grade_median_value = np.median(list)     \n",
    "    \n",
    "    return grade_median_value\n",
    "\n",
    "# 调用grade_median函数，计算中位数\n",
    "grade_median(grade_list)"
   ]
  },
  {
   "cell_type": "markdown",
   "metadata": {},
   "source": [
    "### 定义计算众数的函数\n",
    "定义如下grade_mode函数，完成该功能。<br>\n",
    "这组数据的众数为：99，100"
   ]
  },
  {
   "cell_type": "code",
   "execution_count": 22,
   "metadata": {},
   "outputs": [
    {
     "data": {
      "text/plain": [
       "0     99\n",
       "1    100\n",
       "dtype: int64"
      ]
     },
     "execution_count": 22,
     "metadata": {},
     "output_type": "execute_result"
    }
   ],
   "source": [
    "import pandas as pd\n",
    "\n",
    "def grade_mode(list):\n",
    "    '''\n",
    "    计算众数\n",
    "    \n",
    "    参数：\n",
    "        list：列表类型，待分析数据\n",
    "        \n",
    "    返回值：\n",
    "        grade_mode: 列表类型，待分析数据的众数\n",
    "        \n",
    "    '''\n",
    "    # TODO\n",
    "    # 定义计算众数的函数\n",
    "    # grade_mode返回为一个列表，可记录一个或者多个众数\n",
    " \n",
    "    Ser = pd.Series(list)\n",
    "    grade_mode = Ser.mode()\n",
    "\n",
    "    return grade_mode\n",
    "\n",
    "# 调用grade_mode函数，计算众数\n",
    "grade_mode(grade_list)"
   ]
  },
  {
   "cell_type": "code",
   "execution_count": null,
   "metadata": {},
   "outputs": [],
   "source": []
  }
 ],
 "metadata": {
  "kernelspec": {
   "display_name": "Python 3",
   "language": "python",
   "name": "python3"
  },
  "language_info": {
   "codemirror_mode": {
    "name": "ipython",
    "version": 3
   },
   "file_extension": ".py",
   "mimetype": "text/x-python",
   "name": "python",
   "nbconvert_exporter": "python",
   "pygments_lexer": "ipython3",
   "version": "3.6.4"
  }
 },
 "nbformat": 4,
 "nbformat_minor": 2
}

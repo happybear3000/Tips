{
 "cells": [
  {
   "cell_type": "code",
   "execution_count": 1,
   "metadata": {},
   "outputs": [],
   "source": [
    "import numpy as np\n",
    "\n",
    "#矩阵定义\n",
    "a = np.mat('1 2;3 4')\n",
    "b = np.mat('1 3 6;1 0 1;0 1 1')\n",
    "c = np.mat('1 2 3 ; 4 5 6 ; 7 8 9')"
   ]
  },
  {
   "cell_type": "markdown",
   "metadata": {},
   "source": [
    "$C_{ij}$表示$a_{ij}$的代数余子式，i+j是偶数时，行列式取正号；奇数时取负号。  \n",
    "$det(A) = \\sum_{i=1}^n a_{1i}C_{1i}$"
   ]
  },
  {
   "cell_type": "code",
   "execution_count": 2,
   "metadata": {},
   "outputs": [
    {
     "name": "stdout",
     "output_type": "stream",
     "text": [
      "a = \n",
      " [[1 2]\n",
      " [3 4]]\n",
      " det(a) = -2.0\n",
      "b = \n",
      " [[1 3 6]\n",
      " [1 0 1]\n",
      " [0 1 1]]\n",
      " det(b) = 2.0\n",
      "c = \n",
      " [[1 2 3]\n",
      " [4 5 6]\n",
      " [7 8 9]]\n",
      " det(c) = 0.0\n"
     ]
    }
   ],
   "source": [
    "#计算二阶、三阶行列式\n",
    "det_a = np.linalg.det(a)\n",
    "det_b = np.linalg.det(b)\n",
    "det_c = np.linalg.det(c)\n",
    "\n",
    "print('a = \\n {0}\\n det(a) = {1}'.format(a,np.round(det_a)))\n",
    "print('b = \\n {0}\\n det(b) = {1}'.format(b,np.round(det_b)))\n",
    "print('c = \\n {0}\\n det(c) = {1}'.format(c,np.round(det_c)))"
   ]
  },
  {
   "cell_type": "code",
   "execution_count": 1,
   "metadata": {},
   "outputs": [
    {
     "name": "stdout",
     "output_type": "stream",
     "text": [
      "[[ 1.  -0.  -0. ]\n",
      " [ 0.   0.5 -0. ]\n",
      " [ 0.   0.   0.2]]\n",
      "[[1. 0. 0.]\n",
      " [0. 1. 0.]\n",
      " [0. 0. 1.]]\n"
     ]
    }
   ],
   "source": [
    "import numpy as np\n",
    "from scipy import linalg\n",
    "A = np.array([[1,0,0],\n",
    "              [0,2,0],\n",
    "              [0,0,5]])\n",
    "A_n = linalg.inv(A)\n",
    "print(A_n)\n",
    "print(np.dot(A,A_n))"
   ]
  },
  {
   "cell_type": "code",
   "execution_count": null,
   "metadata": {},
   "outputs": [],
   "source": []
  }
 ],
 "metadata": {
  "kernelspec": {
   "display_name": "Python 3",
   "language": "python",
   "name": "python3"
  },
  "language_info": {
   "codemirror_mode": {
    "name": "ipython",
    "version": 3
   },
   "file_extension": ".py",
   "mimetype": "text/x-python",
   "name": "python",
   "nbconvert_exporter": "python",
   "pygments_lexer": "ipython3",
   "version": "3.6.4"
  }
 },
 "nbformat": 4,
 "nbformat_minor": 2
}

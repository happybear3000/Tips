{
 "cells": [
  {
   "cell_type": "code",
   "execution_count": 5,
   "metadata": {},
   "outputs": [],
   "source": [
    "import numpy as np\n",
    "\n",
    "#矩阵定义\n",
    "a = np.mat('1 2;3 4')\n",
    "b = np.mat('1 3 6;1 0 1;0 1 1')"
   ]
  },
  {
   "cell_type": "markdown",
   "metadata": {},
   "source": [
    "$C_{ij}$表示$a_{ij}$的代数余子式，i+j是偶数时，行列式取正号；奇数时取负号。  \n",
    "$det(A) = \\sum_{i=1}^n a_{1i}C_{1i}$"
   ]
  },
  {
   "cell_type": "code",
   "execution_count": 6,
   "metadata": {},
   "outputs": [
    {
     "name": "stdout",
     "output_type": "stream",
     "text": [
      "a = [[1 2]\n",
      " [3 4]]\n",
      " D(a) = -2.0\n",
      "b = [[1 3 6]\n",
      " [1 0 1]\n",
      " [0 1 1]]\n",
      " D(b) = 2.0\n"
     ]
    }
   ],
   "source": [
    "#计算二阶、三阶行列式\n",
    "det_a = np.linalg.det(a)\n",
    "det_b = np.linalg.det(b)\n",
    "\n",
    "print('a = {0}\\n D(a) = {1}'.format(a,np.round(det_a)))\n",
    "print('b = {0}\\n D(b) = {1}'.format(b,np.round(det_b)))"
   ]
  },
  {
   "cell_type": "code",
   "execution_count": null,
   "metadata": {},
   "outputs": [],
   "source": []
  }
 ],
 "metadata": {
  "kernelspec": {
   "display_name": "Python 3",
   "language": "python",
   "name": "python3"
  },
  "language_info": {
   "codemirror_mode": {
    "name": "ipython",
    "version": 3
   },
   "file_extension": ".py",
   "mimetype": "text/x-python",
   "name": "python",
   "nbconvert_exporter": "python",
   "pygments_lexer": "ipython3",
   "version": "3.6.4"
  }
 },
 "nbformat": 4,
 "nbformat_minor": 2
}

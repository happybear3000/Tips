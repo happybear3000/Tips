{
 "cells": [
  {
   "cell_type": "raw",
   "metadata": {},
   "source": [
    "50个人围成一圈，按顺时针报数。从第一个人开始报数（从1到3报数），凡报到3的人退出圈子，问最后留下的是原来多少号的位置？"
   ]
  },
  {
   "cell_type": "code",
   "execution_count": 62,
   "metadata": {},
   "outputs": [
    {
     "name": "stdout",
     "output_type": "stream",
     "text": [
      "最后留下的是原来的第 [11] 号。\n"
     ]
    }
   ],
   "source": [
    "from ctypes import pointer\n",
    "\n",
    "ls50 = list(range(1,51))\n",
    "count = 0\n",
    "pointer = 0\n",
    "\n",
    "while len(ls50) > 1:\n",
    "    count += 1\n",
    "    if count % 3 == 0:\n",
    "        to_remove = ls50[pointer]\n",
    "        ls50.remove(to_remove)\n",
    "    else:\n",
    "        pointer += 1\n",
    "    pointer = pointer % len(ls50)\n",
    "\n",
    "print('最后留下的是原来的第 {} 号。'.format(ls50))\n"
   ]
  },
  {
   "cell_type": "code",
   "execution_count": 35,
   "metadata": {},
   "outputs": [
    {
     "name": "stdout",
     "output_type": "stream",
     "text": [
      "最后留下的是原来的第 11 号。\n"
     ]
    }
   ],
   "source": [
    "n = 50\n",
    "\n",
    "# 将所有人放入一个数组\n",
    "li_c = list(range(1, n+1))\n",
    "\n",
    "# 报数变量\n",
    "count = 0\n",
    "\n",
    "while len(li_c) > 1:\n",
    "    \n",
    "# 把原数组拷贝到新数组中，用于限制内层循环次数/\n",
    "    li_co = li_c[:]\n",
    "# 内层循环开始，从第一个人开始报数\n",
    "    for i in range(0, len(li_co)):\n",
    "# 每报一次，count计数器加1\n",
    "        count = count + 1\n",
    "\n",
    "        if count % 3 == 0: # 如果count能被3整除，则是报到3的人\n",
    "            li_c.remove(li_co[i]) # 把报到3的人移除原数组，进行下一次循环\n",
    "\n",
    "print('最后留下的是原来的第 {} 号。'.format(li_c[0]))"
   ]
  },
  {
   "cell_type": "raw",
   "metadata": {},
   "source": [
    "有两个已经按需要排序的列表，我需要将它们放入一个文件中，如下例所示：\n",
    "[a, b, c, d, e]\n",
    "[1, 2, 3, 4, 5]\n",
    "打印出来的结果如下：\n",
    "a1\n",
    "b2\n",
    "c3\n",
    "d4\n",
    "e5\n"
   ]
  },
  {
   "cell_type": "code",
   "execution_count": 61,
   "metadata": {},
   "outputs": [],
   "source": [
    "a = ['a','b','c','d','e']\n",
    "b = [1, 2, 3, 4, 5]\n",
    "\n",
    "with open('test.txt',mode='w') as file:\n",
    "    for i in range(len(a)):\n",
    "        temp = a[i] +str(b[i])\n",
    "        file.write(temp + '\\n')\n",
    "        #print(a[i]+str(b[i]))\n"
   ]
  },
  {
   "cell_type": "raw",
   "metadata": {},
   "source": [
    "单词统计，输入以下英文短文，请用Python编写一段程序，实现每个单词出现在次数。范文如下：\n",
    "\n",
    "  There are moments in life when you miss someone so much that you just want to pick them from your dreams and hug them for real! Dream what you want to dream;go where you want to go;be what you want to be,because you have only one life and one chance to do all the things you want to do.\n",
    "　　May you have enough happiness to make you sweet,enough trials to make you strong,enough sorrow to keep you human,enough hope to make you happy? Always put yourself in others’shoes.If you feel that it hurts you,it probably hurts the other person, too.\n"
   ]
  },
  {
   "cell_type": "code",
   "execution_count": 36,
   "metadata": {},
   "outputs": [
    {
     "name": "stdout",
     "output_type": "stream",
     "text": [
      "[('you', 14), ('to', 10), ('want', 5), ('enough', 4), ('make', 3), ('in', 2), ('life', 2), ('that', 2), ('them', 2), ('and', 2), ('dream', 2), ('what', 2), ('go', 2), ('be', 2), ('have', 2), ('one', 2), ('do', 2), ('the', 2), ('it', 2), ('hurts', 2), ('there', 1), ('are', 1), ('moments', 1), ('when', 1), ('miss', 1), ('someone', 1), ('so', 1), ('much', 1), ('just', 1), ('pick', 1), ('from', 1), ('your', 1), ('dreams', 1), ('hug', 1), ('for', 1), ('real', 1), ('where', 1), ('because', 1), ('only', 1), ('chance', 1), ('all', 1), ('things', 1), ('may', 1), ('happiness', 1), ('sweet', 1), ('trials', 1), ('strong', 1), ('sorrow', 1), ('keep', 1), ('human', 1), ('hope', 1), ('happy', 1), ('always', 1), ('put', 1), ('yourself', 1), ('others’', 1), ('shoes', 1), ('if', 1), ('feel', 1), ('probably', 1), ('other', 1), ('person', 1), ('too', 1)]\n"
     ]
    }
   ],
   "source": [
    "def wordcount(context):\n",
    "\n",
    "    context_str = context.replace('\\n', \"\").replace(',',\"\").replace(\";\",\"\").replace(\"!\",\"\").replace(\":\",\"\").replace(\".\",\"\").replace(\"?\",\"\").lower()\n",
    "    word_list = context_str.split(\" \")\n",
    "    count_dict = {}\n",
    "    #print(word_list)\n",
    "    for word in word_list:\n",
    "        if word in count_dict.keys():\n",
    "            count_dict[word] += 1\n",
    "        else:\n",
    "            count_dict[word] = 1\n",
    "    result = sorted(count_dict.items(),key=lambda x:x[1],reverse = True)\n",
    "    return result\n",
    "\n",
    "context = \"\"\"There are moments in life when you miss someone so much that you just want to pick them from your dreams and hug them for real! Dream what you want to dream; go where you want to go; be what you want to be, because you have only one life and one chance to do all the things you want to do. May you have enough happiness to make you sweet, enough trials to make you strong, enough sorrow to keep you human, enough hope to make you happy? Always put yourself in others’ shoes. \n",
    "If you feel that it hurts you, it probably hurts the other person, too.\"\"\"\n",
    "print(wordcount(context))\n"
   ]
  },
  {
   "cell_type": "code",
   "execution_count": 13,
   "metadata": {},
   "outputs": [
    {
     "name": "stdout",
     "output_type": "stream",
     "text": [
      "[('you', 13), ('to', 10), ('want', 5), ('make', 3), ('in', 2), ('life', 2), ('that', 2), ('them', 2), ('and', 2), ('what', 2), ('have', 2), ('one', 2), ('the', 2), ('hurts', 2), ('there', 1), ('are', 1), ('moments', 1), ('when', 1), ('miss', 1), ('someone', 1), ('so', 1), ('much', 1), ('just', 1), ('pick', 1), ('from', 1), ('your', 1), ('dreams', 1), ('hug', 1), ('for', 1), ('real!', 1), ('dream', 1), ('dream;go', 1), ('where', 1), ('go;be', 1), ('be,because', 1), ('only', 1), ('chance', 1), ('do', 1), ('all', 1), ('things', 1), ('do.\\u3000\\u3000may', 1), ('enough', 1), ('happiness', 1), ('sweet,enough', 1), ('trials', 1), ('strong,enough', 1), ('sorrow', 1), ('keep', 1), ('human,enough', 1), ('hope', 1), ('happy?', 1), ('always', 1), ('put', 1), ('yourself', 1), ('others’shoes.if', 1), ('feel', 1), ('it', 1), ('you,it', 1), ('probably', 1), ('other', 1), ('person,', 1), ('too.', 1)]\n"
     ]
    }
   ],
   "source": [
    "str_context=\"\"\"There are moments in life when you miss someone so much that you just want to pick them from your dreams and hug them for real! Dream what you want to dream;go where you want to go;be what you want to be,because you have only one life and one chance to do all the things you want to do.\n",
    "\n",
    "　　May you have enough happiness to make you sweet,enough trials to make you strong,enough sorrow to keep you human,enough hope to make you happy? Always put yourself in others’shoes.If you feel that it hurts you,it probably hurts the other person, too.\"\"\"\n",
    "\n",
    "def wordcount(str):\n",
    "                # 文章字符串前期处理\n",
    "                strl_ist = str.replace('\\n', '').lower().split(' ')\n",
    "                count_dict = {}\n",
    "                # 如果字典里有该单词则加1，否则添加入字典\n",
    "                for str in strl_ist:\n",
    "                                if str in count_dict.keys():\n",
    "                                                count_dict[str] = count_dict[str] + 1\n",
    "                                else:\n",
    "                                                count_dict[str] = 1\n",
    "                # 按照词频从高到低排列\n",
    "                count_list=sorted(count_dict.items(),key=lambda x:x[1],reverse=True)\n",
    "                return count_list\n",
    "print(wordcount(str_context))\n"
   ]
  },
  {
   "cell_type": "raw",
   "metadata": {},
   "source": [
    "场景：利用程序实现个人所得税计算器。\n",
    "具体计算示例：\n",
    "某职员每月应发工资均为30000元，每月减除个人起征点费用5000元，公积金\n",
    "为2500元，社保费用为2000元，专项附加费为2000元。\n",
    "以前3个月为例，应当按照以下方法计算各月应预扣预缴税额：\n",
    "1月份：（30000-5000-2500-2000-2000）*3%=555元；\n",
    "2月份：（30000*2-5000*2-2500*2-2000*2-2000*2）*10%-2520-555=625元；\n",
    "3月份：（30000*3-5000*3-2500*3-2000*3-2000*3）*10%-2520-555-625=1850元"
   ]
  },
  {
   "cell_type": "raw",
   "metadata": {},
   "source": []
  },
  {
   "cell_type": "code",
   "execution_count": 8,
   "metadata": {},
   "outputs": [
    {
     "name": "stdout",
     "output_type": "stream",
     "text": [
      "----\n",
      "1月收入为：30000元\n",
      "1月最终的扣税人民币为:555.0元\n",
      "----\n",
      "2月收入为：30000元\n",
      "2月最终的扣税人民币为:625.0元\n",
      "----\n",
      "3月收入为：30000元\n",
      "3月最终的扣税人民币为:1850.0元\n",
      "----\n",
      "4月收入为：30000元\n",
      "4月最终的扣税人民币为:1850.0元\n",
      "----\n",
      "5月收入为：30000元\n",
      "5月最终的扣税人民币为:1850.0元\n",
      "----\n",
      "6月收入为：30000元\n",
      "6月最终的扣税人民币为:1850.0元\n",
      "----\n",
      "7月收入为：30000元\n",
      "7月最终的扣税人民币为:1850.0元\n",
      "----\n",
      "8月收入为：30000元\n",
      "8月最终的扣税人民币为:2250.0元\n",
      "----\n",
      "9月收入为：30000元\n",
      "9月最终的扣税人民币为:3700.0元\n",
      "----\n",
      "10月收入为：30000元\n",
      "10月最终的扣税人民币为:3700.0元\n",
      "----\n",
      "11月收入为：30000元\n",
      "11月最终的扣税人民币为:3700.0元\n",
      "----\n",
      "12月收入为：30000元\n",
      "12月最终的扣税人民币为:3700.0元\n",
      "----\n",
      "年度总收入=360000元\n",
      "年度总扣税=27480.0元\n"
     ]
    }
   ],
   "source": [
    "#实现个人所得税计算\n",
    "income_list=list()\n",
    "for i in range(1,13):\n",
    "                month1=30000\n",
    "                income_list.append(month1)\n",
    "#公积金\n",
    "gjj=2500\n",
    "#社保\n",
    "shebao=2000\n",
    "#专项附加\n",
    "zhuanxiang=2000\n",
    "#总扣税\n",
    "total_tax=0\n",
    "#总收入\n",
    "total_income=0\n",
    "#计算累积的总扣除项\n",
    "def compute_month_deduction(month,gjj,shebao,zhuanxiang):\n",
    "                final_deduct=(gjj+shebao+zhuanxiang+5000)*(month)\n",
    "                #print(f\"第{month}月总扣除项金额={final_deduct}元）\")\n",
    "                return final_deduct\n",
    "#计算每月应预扣预缴税额\n",
    "def compute_tax(month,income,tax):\n",
    "                if 0<=income<=36000:\n",
    "                            tax_money=income*0.03-tax\n",
    "                elif 36000<=income<=144000:\n",
    "                            tax_money=income*0.1-2520-tax\n",
    "                elif 144000<=income<=300000:\n",
    "                            tax_money=income*0.2-16920-tax\n",
    "                elif 300000<=income<=420000:\n",
    "                            tax_money=income*0.25-31920-tax\n",
    "                elif 420000<=income<=660000:\n",
    "                             tax_money=income*0.3-52920-tax\n",
    "                elif 66000<=income<=960000:\n",
    "                            tax_money=income*0.35-85920-tax\n",
    "                elif 960000<=income:\n",
    "                            tax_money=income*0.45-181920-tax\n",
    "                else:\n",
    "                            tax_money=0\n",
    "                print(\"{}月最终的扣税人民币为:{}元\".format(month,tax_money))\n",
    "                return tax_money\n",
    "for month in range(1,13):\n",
    "                print('----')\n",
    "                cur_income=int(income_list[month-1])\n",
    "                print(f\"{month}月收入为：{cur_income}元\")\n",
    "                total_income=cur_income+total_income\n",
    "                last_tax=total_tax\n",
    "                #总扣除项\n",
    "                final_deduct=compute_month_deduction(month,gjj,shebao,zhuanxiang)\n",
    "                #计税总额=总收入-总扣除项\n",
    "                income=total_income-final_deduct\n",
    "                cur_tax=compute_tax(month,income,last_tax)\n",
    "                #print(f\"本月扣税金额={cur_tax}\")\n",
    "                total_tax=last_tax+cur_tax\n",
    "\n",
    "print(\"----\")\n",
    "print(f\"年度总收入={total_income}元\")\n",
    "print(f\"年度总扣税={total_tax}元\")\n"
   ]
  },
  {
   "cell_type": "raw",
   "metadata": {},
   "source": [
    "用Python实现一个排序：\n",
    "请定义一个函数 mySort，参数为一个列表，参数列表中的元素都是整数.\n",
    "mySort 函数需要将参数列表中的元素按从小到大排序，最终返回一个新的list。\n",
    "请按下面算法的思路实现函数：\n",
    "\n",
    "1. 创建一个新的列表newList\n",
    "2. 先找出所有元素中最小的，append在newList里面\n",
    "3. 再找出剩余的所有元素中最小的，append在newList里面\n",
    "4. 依次类推，直到所有的元素都放到newList里面\n"
   ]
  },
  {
   "cell_type": "code",
   "execution_count": 37,
   "metadata": {},
   "outputs": [
    {
     "name": "stdout",
     "output_type": "stream",
     "text": [
      "[1, 2, 3, 4, 5, 6, 7, 9, 11, 13, 14]\n"
     ]
    }
   ],
   "source": [
    "def sort(inList):\n",
    "    newList = []\n",
    "    # 设计一个循环，每个循环做如下事情（直到 inlist 没有元素）：\n",
    "    # 找出当前inlist中所有元素中最小curMin的，append在newList里面\n",
    "    while len(inList) > 0:\n",
    "        theMin = inList[0] # 记录当前循环最小元素\n",
    "        minIdx = 0 # 记录当前最小元素的下标\n",
    "        idx = 0 # 指向当前元素下标\n",
    "        for value in inList:\n",
    "            if theMin > value:\n",
    "                theMin = value\n",
    "                minIdx = idx\n",
    "            idx += 1\n",
    "        inList.pop(minIdx)\n",
    "        newList.append(theMin)\n",
    "    return newList\n",
    "print (sort([1,3,5,7,2,4,6,9,11,13,14]))\n",
    "\n"
   ]
  },
  {
   "cell_type": "code",
   "execution_count": 49,
   "metadata": {},
   "outputs": [
    {
     "name": "stdout",
     "output_type": "stream",
     "text": [
      "[1, 2, 3, 4, 5, 6, 7, 9, 11, 13, 14]\n"
     ]
    }
   ],
   "source": [
    "def calMin(ls):\n",
    "    #输入：列表 \n",
    "    #输出：最小值索引，最小值\n",
    "    minIdx = 0 \n",
    "    theMin = ls[0]\n",
    "    for i in range(len(ls)):\n",
    "        if theMin > ls[i]:\n",
    "            theMin = ls[i]\n",
    "            minIdx = i\n",
    "    return minIdx, theMin\n",
    "\n",
    "def sortList(ls):\n",
    "    tempList = ls[:] \n",
    "    newList = []\n",
    "    while len(tempList) > 0:\n",
    "        minIdx, theMin = calMin(tempList)\n",
    "        tempList.pop(minIdx)\n",
    "        newList.append(theMin)\n",
    "    return newList\n",
    "\n",
    "myList = [1,3,5,7,2,4,6,9,11,13,14]\n",
    "print(sortList(myList))      "
   ]
  },
  {
   "cell_type": "raw",
   "metadata": {},
   "source": [
    "用Python采集百度网站数据，调用lxml进行解析部分标签。"
   ]
  },
  {
   "cell_type": "code",
   "execution_count": 34,
   "metadata": {
    "scrolled": true
   },
   "outputs": [
    {
     "name": "stdout",
     "output_type": "stream",
     "text": [
      " \n",
      "None\n",
      "None\n",
      "None\n",
      "None\n",
      "None\n",
      "百度一下，你就知道\n",
      " \n",
      " \n",
      " \n",
      " \n",
      " \n",
      " \n",
      " \n",
      "None\n",
      " \n",
      "None\n",
      "None\n",
      "None\n",
      "None\n",
      "None\n",
      "None\n",
      "None\n",
      "None\n",
      "None\n",
      "None\n",
      " \n",
      "新闻\n",
      "hao123\n",
      "地图\n",
      "视频\n",
      "贴吧\n",
      " \n",
      "登录\n",
      "document.write('<a href=\"http://www.baidu.com/bdorz/login.gif?login&tpl=mn&u='+ encodeURIComponent(window.location.href+ (window.location.search === \"\" ? \"?\" : \"&\")+ \"bdorz_come=1\")+ '\" name=\"tj_login\" class=\"lb\">登录</a>');\r\n",
      "                \n",
      "更多产品\n",
      " \n",
      " \n",
      " \n",
      "关于百度\n",
      "About Baidu\n",
      "©2017 Baidu \n",
      "使用百度前必读\n",
      "意见反馈\n",
      "None\n"
     ]
    }
   ],
   "source": [
    "import requests\n",
    "from lxml import etree\n",
    "\n",
    "#第一步 获取原始网页\n",
    "url = 'https://www.baidu.com'\n",
    "response = requests.get(url = url)\n",
    "response.encoding = response.apparent_encoding\n",
    "\n",
    "#第二步 调用lxml解析网页\n",
    "html = etree.HTML(response.text)\n",
    "result = html.xpath('//*')\n",
    "for ele in result:\n",
    "    print(ele.text)"
   ]
  },
  {
   "cell_type": "raw",
   "metadata": {},
   "source": [
    "给定N个不同的数A[0,...,N-1]以及某定值sum,找到这个N个数中的两个数，使得他们的和为sum，要求时间复杂度为O(N)。\n",
    "    实现此查找函数，并使用参数验证，如：N=[12,35,4,7,9,13,19,43,27,61,32]，\n",
    "    sum=65。\n",
    "思路步骤：\n",
    "将数组N进行排序，从小到大的顺序 N_sorted\n",
    "初始化两个位置（指针），分别指向数组N_sorted的首和尾，\n",
    "如果两个指针的和小于sum： 将左边的指针往右移动一格\n",
    "如果两个指针的和大于sum： 将右边的指针往左移动一格\n",
    "如果两个指针的等于sum：保存下来两个指针的位置信息\n"
   ]
  },
  {
   "cell_type": "code",
   "execution_count": 53,
   "metadata": {},
   "outputs": [
    {
     "name": "stdout",
     "output_type": "stream",
     "text": [
      "[(4, 61)]\n"
     ]
    }
   ],
   "source": [
    "def solution(N, sum_):\n",
    "   N_sorted = sorted(N,reverse=False) #O(N)\n",
    "   low = 0\n",
    "   high = len(N) - 1\n",
    "   result =[]\n",
    "   while low < high:\n",
    "      if N_sorted[low] + N_sorted[high] == sum_:\n",
    "         result.append((N_sorted[low], N_sorted[high]))\n",
    "         low += 1\n",
    "         high -= 1\n",
    "      elif N_sorted[low] + N_sorted[high] < sum_:\n",
    "         low += 1\n",
    "      else:\n",
    "         high -= 1\n",
    "   return result\n",
    "\n",
    "N = [12,35,4,7,9,13,19,43,27,61,32]\n",
    "sum_ = 65\n",
    "result = solution(N, sum_)\n",
    "print(result)\n"
   ]
  },
  {
   "cell_type": "raw",
   "metadata": {},
   "source": [
    "给定一个文本列表sentences，它包含n个语句，再任意给出一个关键词keywords列表，包含m个关键词，请使用倒排索引的思想实现一个算法，返回包含所有关键词的句子。\n",
    "    请使用下面的参数验证。\n",
    "    sentences = ['This is the first word',\n",
    "    'This is the second word',\n",
    "    'This is the third word']\n",
    "keywords = ['This', 'second ']\n",
    "\n",
    "第一步 获得所有词的集合\n",
    "第二步 构建倒排索引，找到每个词出现的所有句子\n",
    "第三步 搜索\n"
   ]
  },
  {
   "cell_type": "code",
   "execution_count": 18,
   "metadata": {},
   "outputs": [
    {
     "name": "stdout",
     "output_type": "stream",
     "text": [
      "['This is the second word']\n"
     ]
    }
   ],
   "source": [
    "def solution(sentences, keywords):\n",
    "#第一步：遍历每个句子，获得所有词的集合    \n",
    "    word_set = set()\n",
    "    for s in sentences:\n",
    "        for word in s.lower().split(\" \"):\n",
    "            word_set.add(word)       \n",
    "#第二步：构建倒排索引，字典包含每个词出现的句子序号\n",
    "    word_index_dict = {}\n",
    "    for word in word_set:\n",
    "        word_index_dict[word] = []\n",
    "        for i in range(len(sentences)):\n",
    "            if word in sentences[i].lower():\n",
    "                word_index_dict[word].append(i)\n",
    "#第三部：搜索，集合的交集运算\n",
    "    keywords = [item.lower().strip() for item in keywords]\n",
    "\n",
    "    set_list = []\n",
    "    for i in range(len(keywords)):\n",
    "        set_list.append(set(word_index_dict[keywords[i]]))\n",
    "    result = [sentences[i] for i in set.intersection(*set_list)]\n",
    "    return result\n",
    "\n",
    "\n",
    "sentences = ['This is the first word', 'This is the second word', 'This is the third word']\n",
    "keywords = ['This', 'second']\n",
    "print(solution(sentences, keywords))\n"
   ]
  },
  {
   "cell_type": "code",
   "execution_count": 38,
   "metadata": {},
   "outputs": [
    {
     "name": "stdout",
     "output_type": "stream",
     "text": [
      "['This is the second word']\n"
     ]
    }
   ],
   "source": [
    "sentences = ['This is the first word', 'This is the second word', 'This is the third word']\n",
    "keywords = ['This', 'Second']\n",
    "\n",
    "def solution(sentences, keywords):\n",
    "    word_set = set()\n",
    "    for s in sentences:\n",
    "        for word in s.lower().split(\" \"):\n",
    "            word_set.add(word)\n",
    "    \n",
    "    word_index_dict = {}\n",
    "    for word in word_set:\n",
    "        word_index_dict[word] = []\n",
    "        for i in range(len(sentences)):\n",
    "            if word in sentences[i].lower():\n",
    "                word_index_dict[word].append(i)\n",
    "    \n",
    "    keywords = [item.lower().strip() for item in keywords]\n",
    "    \n",
    "    set_list = []\n",
    "    for i in range(len(keywords)):\n",
    "        set_list.append(set(word_index_dict[keywords[i]]))\n",
    "    \n",
    "    result = [sentences[i] for i in set.intersection(*set_list)]\n",
    "    return result\n",
    "            \n",
    "print(solution(sentences, keywords))           "
   ]
  },
  {
   "cell_type": "code",
   "execution_count": null,
   "metadata": {},
   "outputs": [],
   "source": []
  }
 ],
 "metadata": {
  "kernelspec": {
   "display_name": "Python 3",
   "language": "python",
   "name": "python3"
  },
  "language_info": {
   "codemirror_mode": {
    "name": "ipython",
    "version": 3
   },
   "file_extension": ".py",
   "mimetype": "text/x-python",
   "name": "python",
   "nbconvert_exporter": "python",
   "pygments_lexer": "ipython3",
   "version": "3.6.4"
  }
 },
 "nbformat": 4,
 "nbformat_minor": 2
}
